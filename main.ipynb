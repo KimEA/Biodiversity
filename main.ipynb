{
  "cells": [
    {
      "cell_type": "code",
      "execution_count": 1,
      "metadata": {
        "gather": {
          "logged": 1667198315690
        }
      },
      "outputs": [
        {
          "name": "stderr",
          "output_type": "stream",
          "text": [
            "/anaconda/envs/azureml_py38/lib/python3.8/site-packages/pyproj/crs/crs.py:141: FutureWarning: '+init=<authority>:<code>' syntax is deprecated. '<authority>:<code>' is the preferred initialization method. When making the change, be mindful of axis order changes: https://pyproj4.github.io/pyproj/stable/gotchas.html#axis-order-changes-in-proj-6\n",
            "  in_crs_string = _prepare_from_proj_string(in_crs_string)\n"
          ]
        }
      ],
      "source": [
        "import fiona\n",
        "import geopandas as gpd\n",
        "c = fiona.open('../data/external/202111/tbl_big_ntee_insect_point.shp', encoding='utf-8')\n",
        "link_gdf = gpd.GeoDataFrame.from_features(c, crs=c.crs).to_crs('epsg:4326')\n",
        "link_gdf = link_gdf.iloc[link_gdf['EXAMIN_BEG'].dropna().index]"
      ]
    },
    {
      "cell_type": "code",
      "execution_count": 2,
      "metadata": {
        "gather": {
          "logged": 1667198315787
        }
      },
      "outputs": [
        {
          "data": {
            "text/html": [
              "<div>\n",
              "<style scoped>\n",
              "    .dataframe tbody tr th:only-of-type {\n",
              "        vertical-align: middle;\n",
              "    }\n",
              "\n",
              "    .dataframe tbody tr th {\n",
              "        vertical-align: top;\n",
              "    }\n",
              "\n",
              "    .dataframe thead th {\n",
              "        text-align: right;\n",
              "    }\n",
              "</style>\n",
              "<table border=\"1\" class=\"dataframe\">\n",
              "  <thead>\n",
              "    <tr style=\"text-align: right;\">\n",
              "      <th></th>\n",
              "      <th>geometry</th>\n",
              "      <th>SPCE_ID</th>\n",
              "      <th>EXAMIN_REA</th>\n",
              "      <th>SPCS_LCNM</th>\n",
              "      <th>SPCS_SCNCE</th>\n",
              "      <th>EXAMIN_YEA</th>\n",
              "      <th>EXAMIN_BEG</th>\n",
              "      <th>EXAMIN_END</th>\n",
              "    </tr>\n",
              "  </thead>\n",
              "  <tbody>\n",
              "    <tr>\n",
              "      <th>0</th>\n",
              "      <td>POINT (128.29593 35.52562)</td>\n",
              "      <td>005000000001325047</td>\n",
              "      <td>곤충</td>\n",
              "      <td>창나방</td>\n",
              "      <td>Striglina cancellata</td>\n",
              "      <td>2014</td>\n",
              "      <td>2014-06-01</td>\n",
              "      <td>2014-06-01</td>\n",
              "    </tr>\n",
              "    <tr>\n",
              "      <th>1</th>\n",
              "      <td>POINT (126.38489 36.43714)</td>\n",
              "      <td>005000000001325305</td>\n",
              "      <td>곤충</td>\n",
              "      <td>노랑무늬의병벌레</td>\n",
              "      <td>Malachius (Malachius) prolongatus</td>\n",
              "      <td>2014</td>\n",
              "      <td>2014-07-15</td>\n",
              "      <td>2014-07-15</td>\n",
              "    </tr>\n",
              "    <tr>\n",
              "      <th>2</th>\n",
              "      <td>POINT (126.38498 36.43756)</td>\n",
              "      <td>005000000001325387</td>\n",
              "      <td>곤충</td>\n",
              "      <td>구리꼬마꽃벌</td>\n",
              "      <td>Seladonia (Seladonia) aeraria</td>\n",
              "      <td>2014</td>\n",
              "      <td>2014-06-10</td>\n",
              "      <td>2014-06-10</td>\n",
              "    </tr>\n",
              "    <tr>\n",
              "      <th>3</th>\n",
              "      <td>POINT (126.34697 36.44349)</td>\n",
              "      <td>005000000001325443</td>\n",
              "      <td>곤충</td>\n",
              "      <td>알락수염노린재</td>\n",
              "      <td>Dolycoris baccarum (Linnaeus)</td>\n",
              "      <td>2014</td>\n",
              "      <td>2014-06-11</td>\n",
              "      <td>2014-06-11</td>\n",
              "    </tr>\n",
              "    <tr>\n",
              "      <th>4</th>\n",
              "      <td>POINT (126.34697 36.44349)</td>\n",
              "      <td>005000000001325449</td>\n",
              "      <td>곤충</td>\n",
              "      <td>섬서구메뚜기</td>\n",
              "      <td>Atractomorpha lata</td>\n",
              "      <td>2014</td>\n",
              "      <td>2014-06-11</td>\n",
              "      <td>2014-06-11</td>\n",
              "    </tr>\n",
              "  </tbody>\n",
              "</table>\n",
              "</div>"
            ],
            "text/plain": [
              "                     geometry             SPCE_ID EXAMIN_REA SPCS_LCNM  \\\n",
              "0  POINT (128.29593 35.52562)  005000000001325047         곤충       창나방   \n",
              "1  POINT (126.38489 36.43714)  005000000001325305         곤충  노랑무늬의병벌레   \n",
              "2  POINT (126.38498 36.43756)  005000000001325387         곤충    구리꼬마꽃벌   \n",
              "3  POINT (126.34697 36.44349)  005000000001325443         곤충   알락수염노린재   \n",
              "4  POINT (126.34697 36.44349)  005000000001325449         곤충    섬서구메뚜기   \n",
              "\n",
              "                          SPCS_SCNCE EXAMIN_YEA  EXAMIN_BEG  EXAMIN_END  \n",
              "0               Striglina cancellata       2014  2014-06-01  2014-06-01  \n",
              "1  Malachius (Malachius) prolongatus       2014  2014-07-15  2014-07-15  \n",
              "2      Seladonia (Seladonia) aeraria       2014  2014-06-10  2014-06-10  \n",
              "3      Dolycoris baccarum (Linnaeus)       2014  2014-06-11  2014-06-11  \n",
              "4                 Atractomorpha lata       2014  2014-06-11  2014-06-11  "
            ]
          },
          "execution_count": 2,
          "metadata": {},
          "output_type": "execute_result"
        }
      ],
      "source": [
        "link_gdf.head()"
      ]
    },
    {
      "cell_type": "code",
      "execution_count": 3,
      "metadata": {
        "gather": {
          "logged": 1667198316443
        }
      },
      "outputs": [],
      "source": [
        "# 달 별로 계절 구하기(12,1,2 : 겨울, 3,4,5 : 봄, 6,7,8 : 여름, 9,10,11 : 가을)\n",
        "\n",
        "link_gdf['season'] = link_gdf['EXAMIN_BEG'].apply(lambda x : 1 if int(x.split('-')[1]) in [12,1,2] else(2 if int(x.split('-')[1]) in [3,4,5] else(3 if int(x.split('-')[1]) in [6,7,8] else 4)))"
      ]
    },
    {
      "cell_type": "code",
      "execution_count": 4,
      "metadata": {
        "gather": {
          "logged": 1667198325447
        }
      },
      "outputs": [
        {
          "name": "stderr",
          "output_type": "stream",
          "text": [
            "/anaconda/envs/azureml_py38/lib/python3.8/site-packages/geopandas/geodataframe.py:1442: UserWarning: Geometry column does not contain geometry.\n",
            "  warnings.warn(\"Geometry column does not contain geometry.\")\n"
          ]
        }
      ],
      "source": [
        "# 위도 경도 나눠주기\n",
        "\n",
        "link_gdf['geometry'] = link_gdf['geometry'].apply(lambda x : str(x).split('(')[1].split(')')[0].split(' '))\n",
        "link_gdf['geometry'] = link_gdf.apply(lambda x : [float(i) for i in x['geometry']] ,axis=1)\n",
        "\n",
        "link_gdf['long'] = link_gdf.apply(lambda x : x['geometry'][0],axis=1)\n",
        "link_gdf['lat'] = link_gdf.apply(lambda x : x['geometry'][1],axis=1)"
      ]
    },
    {
      "cell_type": "code",
      "execution_count": 5,
      "metadata": {
        "gather": {
          "logged": 1667198325550
        }
      },
      "outputs": [
        {
          "data": {
            "text/html": [
              "<div>\n",
              "<style scoped>\n",
              "    .dataframe tbody tr th:only-of-type {\n",
              "        vertical-align: middle;\n",
              "    }\n",
              "\n",
              "    .dataframe tbody tr th {\n",
              "        vertical-align: top;\n",
              "    }\n",
              "\n",
              "    .dataframe thead th {\n",
              "        text-align: right;\n",
              "    }\n",
              "</style>\n",
              "<table border=\"1\" class=\"dataframe\">\n",
              "  <thead>\n",
              "    <tr style=\"text-align: right;\">\n",
              "      <th></th>\n",
              "      <th>geometry</th>\n",
              "      <th>SPCE_ID</th>\n",
              "      <th>EXAMIN_REA</th>\n",
              "      <th>SPCS_LCNM</th>\n",
              "      <th>SPCS_SCNCE</th>\n",
              "      <th>EXAMIN_YEA</th>\n",
              "      <th>EXAMIN_BEG</th>\n",
              "      <th>EXAMIN_END</th>\n",
              "      <th>season</th>\n",
              "      <th>long</th>\n",
              "      <th>lat</th>\n",
              "    </tr>\n",
              "  </thead>\n",
              "  <tbody>\n",
              "    <tr>\n",
              "      <th>0</th>\n",
              "      <td>[128.29592899990482, 35.52562000108498]</td>\n",
              "      <td>005000000001325047</td>\n",
              "      <td>곤충</td>\n",
              "      <td>창나방</td>\n",
              "      <td>Striglina cancellata</td>\n",
              "      <td>2014</td>\n",
              "      <td>2014-06-01</td>\n",
              "      <td>2014-06-01</td>\n",
              "      <td>3</td>\n",
              "      <td>128.295929</td>\n",
              "      <td>35.525620</td>\n",
              "    </tr>\n",
              "    <tr>\n",
              "      <th>1</th>\n",
              "      <td>[126.38488899992919, 36.43713900059042]</td>\n",
              "      <td>005000000001325305</td>\n",
              "      <td>곤충</td>\n",
              "      <td>노랑무늬의병벌레</td>\n",
              "      <td>Malachius (Malachius) prolongatus</td>\n",
              "      <td>2014</td>\n",
              "      <td>2014-07-15</td>\n",
              "      <td>2014-07-15</td>\n",
              "      <td>3</td>\n",
              "      <td>126.384889</td>\n",
              "      <td>36.437139</td>\n",
              "    </tr>\n",
              "    <tr>\n",
              "      <th>2</th>\n",
              "      <td>[126.38497500037154, 36.43756100093283]</td>\n",
              "      <td>005000000001325387</td>\n",
              "      <td>곤충</td>\n",
              "      <td>구리꼬마꽃벌</td>\n",
              "      <td>Seladonia (Seladonia) aeraria</td>\n",
              "      <td>2014</td>\n",
              "      <td>2014-06-10</td>\n",
              "      <td>2014-06-10</td>\n",
              "      <td>3</td>\n",
              "      <td>126.384975</td>\n",
              "      <td>36.437561</td>\n",
              "    </tr>\n",
              "    <tr>\n",
              "      <th>3</th>\n",
              "      <td>[126.34696700027263, 36.44349400077947]</td>\n",
              "      <td>005000000001325443</td>\n",
              "      <td>곤충</td>\n",
              "      <td>알락수염노린재</td>\n",
              "      <td>Dolycoris baccarum (Linnaeus)</td>\n",
              "      <td>2014</td>\n",
              "      <td>2014-06-11</td>\n",
              "      <td>2014-06-11</td>\n",
              "      <td>3</td>\n",
              "      <td>126.346967</td>\n",
              "      <td>36.443494</td>\n",
              "    </tr>\n",
              "    <tr>\n",
              "      <th>4</th>\n",
              "      <td>[126.34696700027263, 36.44349400077947]</td>\n",
              "      <td>005000000001325449</td>\n",
              "      <td>곤충</td>\n",
              "      <td>섬서구메뚜기</td>\n",
              "      <td>Atractomorpha lata</td>\n",
              "      <td>2014</td>\n",
              "      <td>2014-06-11</td>\n",
              "      <td>2014-06-11</td>\n",
              "      <td>3</td>\n",
              "      <td>126.346967</td>\n",
              "      <td>36.443494</td>\n",
              "    </tr>\n",
              "    <tr>\n",
              "      <th>...</th>\n",
              "      <td>...</td>\n",
              "      <td>...</td>\n",
              "      <td>...</td>\n",
              "      <td>...</td>\n",
              "      <td>...</td>\n",
              "      <td>...</td>\n",
              "      <td>...</td>\n",
              "      <td>...</td>\n",
              "      <td>...</td>\n",
              "      <td>...</td>\n",
              "      <td>...</td>\n",
              "    </tr>\n",
              "    <tr>\n",
              "      <th>206646</th>\n",
              "      <td>[126.91397499975872, 34.851200000652064]</td>\n",
              "      <td>005000000001324116</td>\n",
              "      <td>곤충</td>\n",
              "      <td>붉은등은무늬밤나방</td>\n",
              "      <td>Erythroplusia pyropia</td>\n",
              "      <td>2017</td>\n",
              "      <td>2017-07-04</td>\n",
              "      <td>2017-07-04</td>\n",
              "      <td>3</td>\n",
              "      <td>126.913975</td>\n",
              "      <td>34.851200</td>\n",
              "    </tr>\n",
              "    <tr>\n",
              "      <th>206647</th>\n",
              "      <td>[126.91397499975872, 34.851200000652064]</td>\n",
              "      <td>005000000001324160</td>\n",
              "      <td>곤충</td>\n",
              "      <td>황줄점갈고리나방</td>\n",
              "      <td>Nordstromia japonica</td>\n",
              "      <td>2017</td>\n",
              "      <td>2017-07-04</td>\n",
              "      <td>2017-07-04</td>\n",
              "      <td>3</td>\n",
              "      <td>126.913975</td>\n",
              "      <td>34.851200</td>\n",
              "    </tr>\n",
              "    <tr>\n",
              "      <th>206648</th>\n",
              "      <td>[126.91397499975872, 34.851200000652064]</td>\n",
              "      <td>005000000001324231</td>\n",
              "      <td>곤충</td>\n",
              "      <td>밑노랑재주나방</td>\n",
              "      <td>Notodonta dembowskii</td>\n",
              "      <td>2017</td>\n",
              "      <td>2017-09-27</td>\n",
              "      <td>2017-09-27</td>\n",
              "      <td>4</td>\n",
              "      <td>126.913975</td>\n",
              "      <td>34.851200</td>\n",
              "    </tr>\n",
              "    <tr>\n",
              "      <th>206649</th>\n",
              "      <td>[126.82123299954733, 34.84825300132888]</td>\n",
              "      <td>005000000001324287</td>\n",
              "      <td>곤충</td>\n",
              "      <td>곧은줄재주나방</td>\n",
              "      <td>Peridea gigantea</td>\n",
              "      <td>2017</td>\n",
              "      <td>2017-06-26</td>\n",
              "      <td>2017-06-26</td>\n",
              "      <td>3</td>\n",
              "      <td>126.821233</td>\n",
              "      <td>34.848253</td>\n",
              "    </tr>\n",
              "    <tr>\n",
              "      <th>206650</th>\n",
              "      <td>[126.82123299954733, 34.84825300132888]</td>\n",
              "      <td>005000000001324338</td>\n",
              "      <td>곤충</td>\n",
              "      <td>신부짤름나방</td>\n",
              "      <td>Naganoella timandra</td>\n",
              "      <td>2017</td>\n",
              "      <td>2017-06-26</td>\n",
              "      <td>2017-06-26</td>\n",
              "      <td>3</td>\n",
              "      <td>126.821233</td>\n",
              "      <td>34.848253</td>\n",
              "    </tr>\n",
              "  </tbody>\n",
              "</table>\n",
              "<p>201531 rows × 11 columns</p>\n",
              "</div>"
            ],
            "text/plain": [
              "                                        geometry             SPCE_ID  \\\n",
              "0        [128.29592899990482, 35.52562000108498]  005000000001325047   \n",
              "1        [126.38488899992919, 36.43713900059042]  005000000001325305   \n",
              "2        [126.38497500037154, 36.43756100093283]  005000000001325387   \n",
              "3        [126.34696700027263, 36.44349400077947]  005000000001325443   \n",
              "4        [126.34696700027263, 36.44349400077947]  005000000001325449   \n",
              "...                                          ...                 ...   \n",
              "206646  [126.91397499975872, 34.851200000652064]  005000000001324116   \n",
              "206647  [126.91397499975872, 34.851200000652064]  005000000001324160   \n",
              "206648  [126.91397499975872, 34.851200000652064]  005000000001324231   \n",
              "206649   [126.82123299954733, 34.84825300132888]  005000000001324287   \n",
              "206650   [126.82123299954733, 34.84825300132888]  005000000001324338   \n",
              "\n",
              "       EXAMIN_REA  SPCS_LCNM                         SPCS_SCNCE EXAMIN_YEA  \\\n",
              "0              곤충        창나방               Striglina cancellata       2014   \n",
              "1              곤충   노랑무늬의병벌레  Malachius (Malachius) prolongatus       2014   \n",
              "2              곤충     구리꼬마꽃벌      Seladonia (Seladonia) aeraria       2014   \n",
              "3              곤충    알락수염노린재      Dolycoris baccarum (Linnaeus)       2014   \n",
              "4              곤충     섬서구메뚜기                 Atractomorpha lata       2014   \n",
              "...           ...        ...                                ...        ...   \n",
              "206646         곤충  붉은등은무늬밤나방              Erythroplusia pyropia       2017   \n",
              "206647         곤충   황줄점갈고리나방               Nordstromia japonica       2017   \n",
              "206648         곤충    밑노랑재주나방               Notodonta dembowskii       2017   \n",
              "206649         곤충    곧은줄재주나방                   Peridea gigantea       2017   \n",
              "206650         곤충     신부짤름나방                Naganoella timandra       2017   \n",
              "\n",
              "        EXAMIN_BEG  EXAMIN_END  season        long        lat  \n",
              "0       2014-06-01  2014-06-01       3  128.295929  35.525620  \n",
              "1       2014-07-15  2014-07-15       3  126.384889  36.437139  \n",
              "2       2014-06-10  2014-06-10       3  126.384975  36.437561  \n",
              "3       2014-06-11  2014-06-11       3  126.346967  36.443494  \n",
              "4       2014-06-11  2014-06-11       3  126.346967  36.443494  \n",
              "...            ...         ...     ...         ...        ...  \n",
              "206646  2017-07-04  2017-07-04       3  126.913975  34.851200  \n",
              "206647  2017-07-04  2017-07-04       3  126.913975  34.851200  \n",
              "206648  2017-09-27  2017-09-27       4  126.913975  34.851200  \n",
              "206649  2017-06-26  2017-06-26       3  126.821233  34.848253  \n",
              "206650  2017-06-26  2017-06-26       3  126.821233  34.848253  \n",
              "\n",
              "[201531 rows x 11 columns]"
            ]
          },
          "execution_count": 5,
          "metadata": {},
          "output_type": "execute_result"
        }
      ],
      "source": [
        "# 데이터가 적은 겨울 계절 삭제\n",
        "# 데이터가 적은 2015년도 데이터 삭제\n",
        "# 국명미정 데이터 삭제\n",
        "\n",
        "link_gdf = link_gdf[link_gdf['season']!=1]\n",
        "link_gdf = link_gdf[link_gdf['EXAMIN_YEA']!='2015']\n",
        "link_gdf[link_gdf['SPCS_LCNM']!='(국명미정)']"
      ]
    },
    {
      "cell_type": "code",
      "execution_count": 6,
      "metadata": {
        "gather": {
          "logged": 1667198325630
        }
      },
      "outputs": [],
      "source": [
        "# 모든 년도, 계절에 존재하는 곤충들만 필터링\n",
        "\n",
        "ls = []\n",
        "\n",
        "\n",
        "for i in link_gdf.groupby(['EXAMIN_YEA','season'])['SPCS_LCNM'].unique():\n",
        "    if len(ls)==0:\n",
        "        ls.extend(list(i))\n",
        "    else:\n",
        "        ls = list(set(ls) & set(i))\n",
        "\n",
        "link_gdf = link_gdf[link_gdf['SPCS_LCNM'].isin(ls)]"
      ]
    },
    {
      "cell_type": "code",
      "execution_count": 7,
      "metadata": {
        "gather": {
          "logged": 1667198325710
        }
      },
      "outputs": [
        {
          "name": "stderr",
          "output_type": "stream",
          "text": [
            "/tmp/ipykernel_2509272/2890515307.py:3: FutureWarning: Indexing with multiple keys (implicitly converted to a tuple of keys) will be deprecated, use a list instead.\n",
            "  temp_df = link_gdf.groupby(['EXAMIN_YEA','season','SPCS_LCNM'])['lat','long'].mean()\n"
          ]
        },
        {
          "data": {
            "text/html": [
              "<div>\n",
              "<style scoped>\n",
              "    .dataframe tbody tr th:only-of-type {\n",
              "        vertical-align: middle;\n",
              "    }\n",
              "\n",
              "    .dataframe tbody tr th {\n",
              "        vertical-align: top;\n",
              "    }\n",
              "\n",
              "    .dataframe thead th {\n",
              "        text-align: right;\n",
              "    }\n",
              "</style>\n",
              "<table border=\"1\" class=\"dataframe\">\n",
              "  <thead>\n",
              "    <tr style=\"text-align: right;\">\n",
              "      <th></th>\n",
              "      <th>EXAMIN_YEA</th>\n",
              "      <th>season</th>\n",
              "      <th>SPCS_LCNM</th>\n",
              "      <th>lat</th>\n",
              "      <th>long</th>\n",
              "    </tr>\n",
              "  </thead>\n",
              "  <tbody>\n",
              "    <tr>\n",
              "      <th>0</th>\n",
              "      <td>2014</td>\n",
              "      <td>2</td>\n",
              "      <td>Vespa crabro</td>\n",
              "      <td>36.646911</td>\n",
              "      <td>126.977366</td>\n",
              "    </tr>\n",
              "    <tr>\n",
              "      <th>1</th>\n",
              "      <td>2014</td>\n",
              "      <td>2</td>\n",
              "      <td>Vespa simillima</td>\n",
              "      <td>37.215951</td>\n",
              "      <td>126.997014</td>\n",
              "    </tr>\n",
              "    <tr>\n",
              "      <th>2</th>\n",
              "      <td>2014</td>\n",
              "      <td>2</td>\n",
              "      <td>가슴골좁쌀바구미</td>\n",
              "      <td>37.146408</td>\n",
              "      <td>127.020509</td>\n",
              "    </tr>\n",
              "    <tr>\n",
              "      <th>3</th>\n",
              "      <td>2014</td>\n",
              "      <td>2</td>\n",
              "      <td>가시노린재</td>\n",
              "      <td>36.927793</td>\n",
              "      <td>127.716652</td>\n",
              "    </tr>\n",
              "    <tr>\n",
              "      <th>4</th>\n",
              "      <td>2014</td>\n",
              "      <td>2</td>\n",
              "      <td>가시점둥글노린재</td>\n",
              "      <td>36.576912</td>\n",
              "      <td>127.702745</td>\n",
              "    </tr>\n",
              "  </tbody>\n",
              "</table>\n",
              "</div>"
            ],
            "text/plain": [
              "  EXAMIN_YEA  season        SPCS_LCNM        lat        long\n",
              "0       2014       2     Vespa crabro  36.646911  126.977366\n",
              "1       2014       2  Vespa simillima  37.215951  126.997014\n",
              "2       2014       2         가슴골좁쌀바구미  37.146408  127.020509\n",
              "3       2014       2            가시노린재  36.927793  127.716652\n",
              "4       2014       2         가시점둥글노린재  36.576912  127.702745"
            ]
          },
          "execution_count": 7,
          "metadata": {},
          "output_type": "execute_result"
        }
      ],
      "source": [
        "#년도, 시즌 그룹화 후 같은 종의 위도 경도 평균화 작업\n",
        "\n",
        "temp_df = link_gdf.groupby(['EXAMIN_YEA','season','SPCS_LCNM'])['lat','long'].mean()\n",
        "temp_df = temp_df.reset_index()\n",
        "temp_df.head()"
      ]
    },
    {
      "cell_type": "code",
      "execution_count": 8,
      "metadata": {
        "gather": {
          "logged": 1667198325813
        }
      },
      "outputs": [],
      "source": [
        "# 필터링 되고 살아남은 종 저장\n",
        "spcs_ls = temp_df['SPCS_LCNM'].unique()"
      ]
    },
    {
      "cell_type": "code",
      "execution_count": 9,
      "metadata": {
        "gather": {
          "logged": 1667198325888
        }
      },
      "outputs": [
        {
          "data": {
            "text/plain": [
              "309"
            ]
          },
          "execution_count": 9,
          "metadata": {},
          "output_type": "execute_result"
        }
      ],
      "source": [
        "len(spcs_ls)"
      ]
    },
    {
      "cell_type": "code",
      "execution_count": 10,
      "metadata": {
        "gather": {
          "logged": 1667198326448
        }
      },
      "outputs": [],
      "source": [
        "# 종별로 위도 경도 묶어주기\n",
        "save_lat = []\n",
        "save_long = []\n",
        "\n",
        "for j in range(309):\n",
        "    lat = []\n",
        "    long = []\n",
        "    cnt=0\n",
        "    for i in range(12):\n",
        "        lat.append(temp_df.iloc[cnt+j]['lat'])\n",
        "        long.append(temp_df.iloc[cnt+j]['long'])\n",
        "        cnt+=309\n",
        "    save_lat.append(lat)\n",
        "    save_long.append(long)\n",
        "\n",
        "save_lat.extend(save_long)"
      ]
    },
    {
      "cell_type": "code",
      "execution_count": 11,
      "metadata": {
        "gather": {
          "logged": 1667198326518
        }
      },
      "outputs": [],
      "source": [
        "# 위도 경도 한줄로 묶기\n",
        "\n",
        "lat_long_ls = []\n",
        "\n",
        "for i,j in zip(save_lat[:309],save_lat[309:]):\n",
        "    i.extend(j)\n",
        "    lat_long_ls.append(i)"
      ]
    },
    {
      "cell_type": "code",
      "execution_count": 12,
      "metadata": {
        "gather": {
          "logged": 1667198326605
        }
      },
      "outputs": [
        {
          "data": {
            "text/html": [
              "<div>\n",
              "<style scoped>\n",
              "    .dataframe tbody tr th:only-of-type {\n",
              "        vertical-align: middle;\n",
              "    }\n",
              "\n",
              "    .dataframe tbody tr th {\n",
              "        vertical-align: top;\n",
              "    }\n",
              "\n",
              "    .dataframe thead th {\n",
              "        text-align: right;\n",
              "    }\n",
              "</style>\n",
              "<table border=\"1\" class=\"dataframe\">\n",
              "  <thead>\n",
              "    <tr style=\"text-align: right;\">\n",
              "      <th></th>\n",
              "      <th>0</th>\n",
              "      <th>1</th>\n",
              "      <th>2</th>\n",
              "      <th>3</th>\n",
              "      <th>4</th>\n",
              "      <th>5</th>\n",
              "      <th>6</th>\n",
              "      <th>7</th>\n",
              "      <th>8</th>\n",
              "      <th>9</th>\n",
              "      <th>...</th>\n",
              "      <th>14</th>\n",
              "      <th>15</th>\n",
              "      <th>16</th>\n",
              "      <th>17</th>\n",
              "      <th>18</th>\n",
              "      <th>19</th>\n",
              "      <th>20</th>\n",
              "      <th>21</th>\n",
              "      <th>22</th>\n",
              "      <th>23</th>\n",
              "    </tr>\n",
              "  </thead>\n",
              "  <tbody>\n",
              "    <tr>\n",
              "      <th>0</th>\n",
              "      <td>36.646911</td>\n",
              "      <td>36.524126</td>\n",
              "      <td>37.267621</td>\n",
              "      <td>36.243144</td>\n",
              "      <td>35.948844</td>\n",
              "      <td>36.012189</td>\n",
              "      <td>36.259360</td>\n",
              "      <td>35.526920</td>\n",
              "      <td>35.912912</td>\n",
              "      <td>35.920444</td>\n",
              "      <td>...</td>\n",
              "      <td>126.657362</td>\n",
              "      <td>127.481823</td>\n",
              "      <td>128.059853</td>\n",
              "      <td>127.937223</td>\n",
              "      <td>127.059199</td>\n",
              "      <td>127.334236</td>\n",
              "      <td>127.495015</td>\n",
              "      <td>127.902536</td>\n",
              "      <td>127.841637</td>\n",
              "      <td>127.717773</td>\n",
              "    </tr>\n",
              "    <tr>\n",
              "      <th>1</th>\n",
              "      <td>37.215951</td>\n",
              "      <td>36.717058</td>\n",
              "      <td>36.763692</td>\n",
              "      <td>36.462716</td>\n",
              "      <td>36.264559</td>\n",
              "      <td>36.897186</td>\n",
              "      <td>37.306944</td>\n",
              "      <td>36.385491</td>\n",
              "      <td>36.015872</td>\n",
              "      <td>36.112683</td>\n",
              "      <td>...</td>\n",
              "      <td>126.820173</td>\n",
              "      <td>127.164761</td>\n",
              "      <td>127.876737</td>\n",
              "      <td>127.996522</td>\n",
              "      <td>127.615556</td>\n",
              "      <td>127.430159</td>\n",
              "      <td>127.830429</td>\n",
              "      <td>128.313325</td>\n",
              "      <td>127.890427</td>\n",
              "      <td>127.845275</td>\n",
              "    </tr>\n",
              "    <tr>\n",
              "      <th>2</th>\n",
              "      <td>37.146408</td>\n",
              "      <td>36.612861</td>\n",
              "      <td>36.714556</td>\n",
              "      <td>36.813230</td>\n",
              "      <td>36.844637</td>\n",
              "      <td>36.605899</td>\n",
              "      <td>35.525966</td>\n",
              "      <td>36.172618</td>\n",
              "      <td>36.303923</td>\n",
              "      <td>35.794447</td>\n",
              "      <td>...</td>\n",
              "      <td>126.274056</td>\n",
              "      <td>127.929247</td>\n",
              "      <td>128.336318</td>\n",
              "      <td>128.389604</td>\n",
              "      <td>127.893031</td>\n",
              "      <td>127.482165</td>\n",
              "      <td>127.833017</td>\n",
              "      <td>127.200176</td>\n",
              "      <td>128.663461</td>\n",
              "      <td>127.426678</td>\n",
              "    </tr>\n",
              "    <tr>\n",
              "      <th>3</th>\n",
              "      <td>36.927793</td>\n",
              "      <td>36.740125</td>\n",
              "      <td>36.872641</td>\n",
              "      <td>36.138404</td>\n",
              "      <td>36.403556</td>\n",
              "      <td>36.380038</td>\n",
              "      <td>36.131589</td>\n",
              "      <td>35.385191</td>\n",
              "      <td>35.216634</td>\n",
              "      <td>36.630186</td>\n",
              "      <td>...</td>\n",
              "      <td>126.884714</td>\n",
              "      <td>127.962109</td>\n",
              "      <td>127.857109</td>\n",
              "      <td>127.851595</td>\n",
              "      <td>127.133228</td>\n",
              "      <td>127.257665</td>\n",
              "      <td>127.442402</td>\n",
              "      <td>128.002409</td>\n",
              "      <td>127.950823</td>\n",
              "      <td>127.854923</td>\n",
              "    </tr>\n",
              "    <tr>\n",
              "      <th>4</th>\n",
              "      <td>36.576912</td>\n",
              "      <td>36.613936</td>\n",
              "      <td>35.497589</td>\n",
              "      <td>36.221561</td>\n",
              "      <td>36.059494</td>\n",
              "      <td>36.018734</td>\n",
              "      <td>35.436663</td>\n",
              "      <td>35.667097</td>\n",
              "      <td>35.117747</td>\n",
              "      <td>36.504580</td>\n",
              "      <td>...</td>\n",
              "      <td>127.857425</td>\n",
              "      <td>127.896199</td>\n",
              "      <td>127.835560</td>\n",
              "      <td>127.682144</td>\n",
              "      <td>127.605076</td>\n",
              "      <td>127.237122</td>\n",
              "      <td>127.407766</td>\n",
              "      <td>128.085387</td>\n",
              "      <td>127.887255</td>\n",
              "      <td>127.720864</td>\n",
              "    </tr>\n",
              "  </tbody>\n",
              "</table>\n",
              "<p>5 rows × 24 columns</p>\n",
              "</div>"
            ],
            "text/plain": [
              "          0          1          2          3          4          5   \\\n",
              "0  36.646911  36.524126  37.267621  36.243144  35.948844  36.012189   \n",
              "1  37.215951  36.717058  36.763692  36.462716  36.264559  36.897186   \n",
              "2  37.146408  36.612861  36.714556  36.813230  36.844637  36.605899   \n",
              "3  36.927793  36.740125  36.872641  36.138404  36.403556  36.380038   \n",
              "4  36.576912  36.613936  35.497589  36.221561  36.059494  36.018734   \n",
              "\n",
              "          6          7          8          9   ...          14          15  \\\n",
              "0  36.259360  35.526920  35.912912  35.920444  ...  126.657362  127.481823   \n",
              "1  37.306944  36.385491  36.015872  36.112683  ...  126.820173  127.164761   \n",
              "2  35.525966  36.172618  36.303923  35.794447  ...  126.274056  127.929247   \n",
              "3  36.131589  35.385191  35.216634  36.630186  ...  126.884714  127.962109   \n",
              "4  35.436663  35.667097  35.117747  36.504580  ...  127.857425  127.896199   \n",
              "\n",
              "           16          17          18          19          20          21  \\\n",
              "0  128.059853  127.937223  127.059199  127.334236  127.495015  127.902536   \n",
              "1  127.876737  127.996522  127.615556  127.430159  127.830429  128.313325   \n",
              "2  128.336318  128.389604  127.893031  127.482165  127.833017  127.200176   \n",
              "3  127.857109  127.851595  127.133228  127.257665  127.442402  128.002409   \n",
              "4  127.835560  127.682144  127.605076  127.237122  127.407766  128.085387   \n",
              "\n",
              "           22          23  \n",
              "0  127.841637  127.717773  \n",
              "1  127.890427  127.845275  \n",
              "2  128.663461  127.426678  \n",
              "3  127.950823  127.854923  \n",
              "4  127.887255  127.720864  \n",
              "\n",
              "[5 rows x 24 columns]"
            ]
          },
          "execution_count": 12,
          "metadata": {},
          "output_type": "execute_result"
        }
      ],
      "source": [
        "import pandas as pd\n",
        "\n",
        "km_df = pd.DataFrame(lat_long_ls)\n",
        "km_df.head()"
      ]
    },
    {
      "cell_type": "code",
      "execution_count": 13,
      "metadata": {
        "gather": {
          "logged": 1667198326679
        }
      },
      "outputs": [],
      "source": [
        "# 위도 경도 분리해서 위도 경도와의 차이를 계산하는 구간.\n",
        "\n",
        "temp_diff_ls = []\n",
        "\n",
        "for i in range(km_df.shape[0]):\n",
        "    t = 0\n",
        "    temp_ls = []\n",
        "    for ind, j in enumerate(km_df.iloc[i]):\n",
        "        if t==0 or ind==12:\n",
        "            t = j\n",
        "        else:\n",
        "            temp_ls.append(t-j)\n",
        "            t=j\n",
        "    temp_diff_ls.append(temp_ls)"
      ]
    },
    {
      "cell_type": "code",
      "execution_count": 14,
      "metadata": {
        "gather": {
          "logged": 1667198326738
        }
      },
      "outputs": [
        {
          "data": {
            "text/html": [
              "<div>\n",
              "<style scoped>\n",
              "    .dataframe tbody tr th:only-of-type {\n",
              "        vertical-align: middle;\n",
              "    }\n",
              "\n",
              "    .dataframe tbody tr th {\n",
              "        vertical-align: top;\n",
              "    }\n",
              "\n",
              "    .dataframe thead th {\n",
              "        text-align: right;\n",
              "    }\n",
              "</style>\n",
              "<table border=\"1\" class=\"dataframe\">\n",
              "  <thead>\n",
              "    <tr style=\"text-align: right;\">\n",
              "      <th></th>\n",
              "      <th>0</th>\n",
              "      <th>1</th>\n",
              "      <th>2</th>\n",
              "      <th>3</th>\n",
              "      <th>4</th>\n",
              "      <th>5</th>\n",
              "      <th>6</th>\n",
              "      <th>7</th>\n",
              "      <th>8</th>\n",
              "      <th>9</th>\n",
              "      <th>...</th>\n",
              "      <th>12</th>\n",
              "      <th>13</th>\n",
              "      <th>14</th>\n",
              "      <th>15</th>\n",
              "      <th>16</th>\n",
              "      <th>17</th>\n",
              "      <th>18</th>\n",
              "      <th>19</th>\n",
              "      <th>20</th>\n",
              "      <th>21</th>\n",
              "    </tr>\n",
              "  </thead>\n",
              "  <tbody>\n",
              "    <tr>\n",
              "      <th>Vespa crabro</th>\n",
              "      <td>0.122785</td>\n",
              "      <td>-0.743495</td>\n",
              "      <td>1.024477</td>\n",
              "      <td>0.294300</td>\n",
              "      <td>-0.063345</td>\n",
              "      <td>-0.247172</td>\n",
              "      <td>0.732440</td>\n",
              "      <td>-0.385992</td>\n",
              "      <td>-0.007532</td>\n",
              "      <td>-0.191940</td>\n",
              "      <td>...</td>\n",
              "      <td>0.852159</td>\n",
              "      <td>-0.824460</td>\n",
              "      <td>-0.578030</td>\n",
              "      <td>0.122630</td>\n",
              "      <td>0.878024</td>\n",
              "      <td>-0.275037</td>\n",
              "      <td>-0.160779</td>\n",
              "      <td>-0.407521</td>\n",
              "      <td>0.060899</td>\n",
              "      <td>0.123864</td>\n",
              "    </tr>\n",
              "    <tr>\n",
              "      <th>Vespa simillima</th>\n",
              "      <td>0.498893</td>\n",
              "      <td>-0.046633</td>\n",
              "      <td>0.300976</td>\n",
              "      <td>0.198156</td>\n",
              "      <td>-0.632627</td>\n",
              "      <td>-0.409758</td>\n",
              "      <td>0.921453</td>\n",
              "      <td>0.369620</td>\n",
              "      <td>-0.096811</td>\n",
              "      <td>-0.229970</td>\n",
              "      <td>...</td>\n",
              "      <td>0.408432</td>\n",
              "      <td>-0.344588</td>\n",
              "      <td>-0.711976</td>\n",
              "      <td>-0.119785</td>\n",
              "      <td>0.380966</td>\n",
              "      <td>0.185397</td>\n",
              "      <td>-0.400270</td>\n",
              "      <td>-0.482896</td>\n",
              "      <td>0.422898</td>\n",
              "      <td>0.045151</td>\n",
              "    </tr>\n",
              "    <tr>\n",
              "      <th>가슴골좁쌀바구미</th>\n",
              "      <td>0.533547</td>\n",
              "      <td>-0.101695</td>\n",
              "      <td>-0.098674</td>\n",
              "      <td>-0.031407</td>\n",
              "      <td>0.238738</td>\n",
              "      <td>1.079933</td>\n",
              "      <td>-0.646652</td>\n",
              "      <td>-0.131305</td>\n",
              "      <td>0.509476</td>\n",
              "      <td>-1.058606</td>\n",
              "      <td>...</td>\n",
              "      <td>1.481241</td>\n",
              "      <td>-1.655191</td>\n",
              "      <td>-0.407071</td>\n",
              "      <td>-0.053286</td>\n",
              "      <td>0.496573</td>\n",
              "      <td>0.410866</td>\n",
              "      <td>-0.350852</td>\n",
              "      <td>0.632841</td>\n",
              "      <td>-1.463285</td>\n",
              "      <td>1.236783</td>\n",
              "    </tr>\n",
              "    <tr>\n",
              "      <th>가시노린재</th>\n",
              "      <td>0.187668</td>\n",
              "      <td>-0.132516</td>\n",
              "      <td>0.734237</td>\n",
              "      <td>-0.265152</td>\n",
              "      <td>0.023518</td>\n",
              "      <td>0.248449</td>\n",
              "      <td>0.746399</td>\n",
              "      <td>0.168557</td>\n",
              "      <td>-1.413553</td>\n",
              "      <td>0.313274</td>\n",
              "      <td>...</td>\n",
              "      <td>1.346192</td>\n",
              "      <td>-1.077395</td>\n",
              "      <td>0.105000</td>\n",
              "      <td>0.005514</td>\n",
              "      <td>0.718367</td>\n",
              "      <td>-0.124437</td>\n",
              "      <td>-0.184736</td>\n",
              "      <td>-0.560007</td>\n",
              "      <td>0.051585</td>\n",
              "      <td>0.095900</td>\n",
              "    </tr>\n",
              "    <tr>\n",
              "      <th>가시점둥글노린재</th>\n",
              "      <td>-0.037024</td>\n",
              "      <td>1.116347</td>\n",
              "      <td>-0.723972</td>\n",
              "      <td>0.162067</td>\n",
              "      <td>0.040760</td>\n",
              "      <td>0.582070</td>\n",
              "      <td>-0.230434</td>\n",
              "      <td>0.549350</td>\n",
              "      <td>-1.386833</td>\n",
              "      <td>0.335282</td>\n",
              "      <td>...</td>\n",
              "      <td>0.478310</td>\n",
              "      <td>-0.038774</td>\n",
              "      <td>0.060638</td>\n",
              "      <td>0.153416</td>\n",
              "      <td>0.077068</td>\n",
              "      <td>0.367954</td>\n",
              "      <td>-0.170644</td>\n",
              "      <td>-0.677621</td>\n",
              "      <td>0.198132</td>\n",
              "      <td>0.166390</td>\n",
              "    </tr>\n",
              "  </tbody>\n",
              "</table>\n",
              "<p>5 rows × 22 columns</p>\n",
              "</div>"
            ],
            "text/plain": [
              "                       0         1         2         3         4         5   \\\n",
              "Vespa crabro     0.122785 -0.743495  1.024477  0.294300 -0.063345 -0.247172   \n",
              "Vespa simillima  0.498893 -0.046633  0.300976  0.198156 -0.632627 -0.409758   \n",
              "가슴골좁쌀바구미         0.533547 -0.101695 -0.098674 -0.031407  0.238738  1.079933   \n",
              "가시노린재            0.187668 -0.132516  0.734237 -0.265152  0.023518  0.248449   \n",
              "가시점둥글노린재        -0.037024  1.116347 -0.723972  0.162067  0.040760  0.582070   \n",
              "\n",
              "                       6         7         8         9   ...        12  \\\n",
              "Vespa crabro     0.732440 -0.385992 -0.007532 -0.191940  ...  0.852159   \n",
              "Vespa simillima  0.921453  0.369620 -0.096811 -0.229970  ...  0.408432   \n",
              "가슴골좁쌀바구미        -0.646652 -0.131305  0.509476 -1.058606  ...  1.481241   \n",
              "가시노린재            0.746399  0.168557 -1.413553  0.313274  ...  1.346192   \n",
              "가시점둥글노린재        -0.230434  0.549350 -1.386833  0.335282  ...  0.478310   \n",
              "\n",
              "                       13        14        15        16        17        18  \\\n",
              "Vespa crabro    -0.824460 -0.578030  0.122630  0.878024 -0.275037 -0.160779   \n",
              "Vespa simillima -0.344588 -0.711976 -0.119785  0.380966  0.185397 -0.400270   \n",
              "가슴골좁쌀바구미        -1.655191 -0.407071 -0.053286  0.496573  0.410866 -0.350852   \n",
              "가시노린재           -1.077395  0.105000  0.005514  0.718367 -0.124437 -0.184736   \n",
              "가시점둥글노린재        -0.038774  0.060638  0.153416  0.077068  0.367954 -0.170644   \n",
              "\n",
              "                       19        20        21  \n",
              "Vespa crabro    -0.407521  0.060899  0.123864  \n",
              "Vespa simillima -0.482896  0.422898  0.045151  \n",
              "가슴골좁쌀바구미         0.632841 -1.463285  1.236783  \n",
              "가시노린재           -0.560007  0.051585  0.095900  \n",
              "가시점둥글노린재        -0.677621  0.198132  0.166390  \n",
              "\n",
              "[5 rows x 22 columns]"
            ]
          },
          "execution_count": 14,
          "metadata": {},
          "output_type": "execute_result"
        }
      ],
      "source": [
        "# 구한 위도 경도로 dataframe 구성해주기\n",
        "\n",
        "km_df_diff = pd.DataFrame(temp_diff_ls)\n",
        "km_df_diff.index = spcs_ls\n",
        "km_df_diff.head()"
      ]
    },
    {
      "cell_type": "code",
      "execution_count": 15,
      "metadata": {
        "gather": {
          "logged": 1667198326801
        }
      },
      "outputs": [],
      "source": [
        "# 기후변화 지표종인 나비만 추출\n",
        "\n",
        "s_ind = ['거꾸로여덟팔나비'\n",
        ",'긴꼬리제비나비'\n",
        ",'남방노랑나비'\n",
        ",'남방부전나비'\n",
        ",'네발나비'\n",
        ",'노랑나비'\n",
        ",'대만흰나비'\n",
        ",'먹부전나비'\n",
        ",'물결나비'\n",
        ",'배추흰나비'\n",
        ",'별박이세줄나비'\n",
        ",'부전나비'\n",
        ",'부처나비'\n",
        ",'뿔나비'\n",
        ",'사향제비나비'\n",
        ",'산제비나비'\n",
        ",'산호랑나비'\n",
        ",'암먹부전나비'\n",
        ",'애기세줄나비'\n",
        ",'애물결나비'\n",
        ",'왕자팔랑나비'\n",
        ",'작은멋쟁이나비'\n",
        ",'작은주홍부전나비'\n",
        ",'제비나비'\n",
        ",'제이줄나비'\n",
        ",'청띠신선나비'\n",
        ",'큰멋쟁이나비'\n",
        ",'큰줄흰나비'\n",
        ",'푸른부전나비'\n",
        ",'호랑나비']"
      ]
    },
    {
      "cell_type": "code",
      "execution_count": 16,
      "metadata": {
        "gather": {
          "logged": 1667198326851
        }
      },
      "outputs": [],
      "source": [
        "# 나비와 나비를 뺀 나머지 데이터와의 분리 작업.\n",
        "\n",
        "not_s_ls = km_df_diff.index.to_list()\n",
        "\n",
        "for i in s_ind:\n",
        "    not_s_ls.remove(i)\n",
        "\n",
        "s_df = km_df_diff.loc[s_ind]\n",
        "not_s_df = km_df_diff.loc[not_s_ls]"
      ]
    },
    {
      "cell_type": "code",
      "execution_count": null,
      "metadata": {},
      "outputs": [],
      "source": []
    },
    {
      "cell_type": "code",
      "execution_count": 17,
      "metadata": {
        "gather": {
          "logged": 1667198326914
        }
      },
      "outputs": [],
      "source": [
        "# 나비에 대한 특징 학습 후, 나비와 같은 특징을 가지는 곤충 종 선정 \n",
        "\n",
        "from sklearn.preprocessing import MinMaxScaler\n",
        "from sklearn.svm import OneClassSVM\n",
        "\n",
        "scaler = MinMaxScaler()\n",
        "s_data_scale = scaler.fit_transform(s_df)\n",
        "not_s_data_scale = scaler.transform(not_s_df)\n",
        "\n",
        "model = OneClassSVM(gamma='auto').fit(s_data_scale)\n",
        "\n",
        "# 클러스터링 결과 각 데이터가 몇 번째 그룹에 속하는지 저장\n",
        "not_s_df['class'] = model.predict(not_s_data_scale)\n",
        "\n",
        "class_1_list = not_s_df[not_s_df['class']==1].index.to_list()\n",
        "class_m_1_list= not_s_df[not_s_df['class']==-1].index.to_list()\n",
        "\n",
        "link_gdf=link_gdf.reset_index(drop=True)"
      ]
    },
    {
      "cell_type": "code",
      "execution_count": 18,
      "metadata": {
        "gather": {
          "logged": 1667198326984
        }
      },
      "outputs": [
        {
          "data": {
            "text/plain": [
              "-1    238\n",
              " 1     41\n",
              "Name: class, dtype: int64"
            ]
          },
          "execution_count": 18,
          "metadata": {},
          "output_type": "execute_result"
        }
      ],
      "source": [
        "not_s_df['class'].value_counts()"
      ]
    },
    {
      "cell_type": "code",
      "execution_count": 19,
      "metadata": {
        "gather": {
          "logged": 1667198327515
        }
      },
      "outputs": [],
      "source": [
        "from haversine import haversine\n",
        "import matplotlib.pyplot as plt\n",
        "import numpy as np\n",
        "\n",
        "# 나비와 같은 특징을 가지는 곤충들의 개별 위도 경도 차이 추출\n",
        "cnt=0\n",
        "total_save = []\n",
        "for i in class_1_list:\n",
        "\n",
        "    temp_lat_long = []\n",
        "    save = []\n",
        "\n",
        "    for j in ['2014','2016','2017','2018']:\n",
        "        for k in [2,3,4]:\n",
        "            t = temp_df[temp_df['EXAMIN_YEA']==j]\n",
        "            t = (t[t['season']==k])\n",
        "            temp_ls = t[t['SPCS_LCNM']==i].iloc[0].to_list()\n",
        "            temp_ls = [temp_ls[3],temp_ls[4]]\n",
        "            if len(temp_lat_long)==0:\n",
        "                temp_lat_long = temp_ls\n",
        "            else:\n",
        "                save.append(haversine(temp_lat_long, temp_ls,unit='km'))\n",
        "                \n",
        "    total_save.append(save)"
      ]
    },
    {
      "cell_type": "code",
      "execution_count": 20,
      "metadata": {
        "gather": {
          "logged": 1667198331446
        }
      },
      "outputs": [],
      "source": [
        "from haversine import haversine\n",
        "import matplotlib.pyplot as plt\n",
        "import numpy as np\n",
        "\n",
        "# 나비와 다른 특징을 가지는 곤충들의 개별 위도 경도 차이 추출\n",
        "cnt=0\n",
        "total_save2 = []\n",
        "for i in class_m_1_list:\n",
        "    \n",
        "    temp_lat_long = []\n",
        "    save = []\n",
        "\n",
        "    for j in ['2014','2016','2017','2018']:\n",
        "        for k in [2,3,4]:\n",
        "            t = temp_df[temp_df['EXAMIN_YEA']==j]\n",
        "            t = (t[t['season']==k])\n",
        "            temp_ls = t[t['SPCS_LCNM']==i].iloc[0].to_list()\n",
        "            temp_ls = [temp_ls[3],temp_ls[4]]\n",
        "            if len(temp_lat_long)==0:\n",
        "                temp_lat_long = temp_ls\n",
        "            else:\n",
        "                save.append(haversine(temp_lat_long, temp_ls,unit='km'))\n",
        "                \n",
        "    total_save2.append(save)"
      ]
    },
    {
      "cell_type": "code",
      "execution_count": 21,
      "metadata": {
        "gather": {
          "logged": 1667198331533
        }
      },
      "outputs": [
        {
          "name": "stdout",
          "output_type": "stream",
          "text": [
            "Vespa crabro\n",
            "가시노린재\n",
            "갈색날개노린재\n",
            "검은다리실베짱이\n",
            "꼬마꽃등에\n",
            "끝검은말매미충\n",
            "끝짤룩노랑가지나방\n",
            "넓은띠담흑수염나방\n",
            "넓적배허리노린재\n",
            "노랑띠알락가지나방\n",
            "노랑테가시잎벌레\n",
            "다리무늬침노린재\n",
            "다색띠큰가지나방\n",
            "더듬이긴노린재\n",
            "덩굴꽃등에\n",
            "등검은메뚜기\n",
            "말매미충\n",
            "무당벌레\n",
            "무당알노린재\n",
            "변색장님노린재\n",
            "북쪽비단노린재\n",
            "붉은잡초노린재\n",
            "빨간긴쐐기노린재\n",
            "뿔들파리\n",
            "삿포로잡초노린재\n",
            "설상무늬장님노린재\n",
            "수수꽃다리명나방\n",
            "수중다리꽃등에\n",
            "썩덩나무노린재\n",
            "아시아실잠자리\n",
            "알락수염노린재\n",
            "알통다리꽃등에\n",
            "애긴노린재\n",
            "양봉꿀벌\n",
            "우리가시허리노린재\n",
            "좁쌀메뚜기\n",
            "칠성무당벌레\n",
            "큰허리노린재\n",
            "톱다리개미허리노린재\n",
            "호리꽃등에\n",
            "황줄점갈고리나방\n"
          ]
        }
      ],
      "source": [
        "for i in class_1_list:\n",
        "    print(i)"
      ]
    },
    {
      "cell_type": "code",
      "execution_count": 22,
      "metadata": {
        "gather": {
          "logged": 1667198332457
        }
      },
      "outputs": [],
      "source": [
        "from haversine import haversine\n",
        "import matplotlib.pyplot as plt\n",
        "import numpy as np\n",
        "\n",
        "# 나비의 개별 위도 경도 차이 추출\n",
        "cnt=0\n",
        "total_save3 = []\n",
        "for i in s_ind:\n",
        "\n",
        "    temp_lat_long = []\n",
        "    save = []\n",
        "\n",
        "    for j in ['2014','2016','2017','2018']:\n",
        "        for k in [2,3,4]:\n",
        "            t = temp_df[temp_df['EXAMIN_YEA']==j]\n",
        "            t = (t[t['season']==k])\n",
        "            temp_ls = t[t['SPCS_LCNM']==i].iloc[0].to_list()\n",
        "            temp_ls = [temp_ls[3],temp_ls[4]]\n",
        "            if len(temp_lat_long)==0:\n",
        "                temp_lat_long = temp_ls\n",
        "            else:\n",
        "                save.append(haversine(temp_lat_long, temp_ls,unit='km'))\n",
        "                \n",
        "    total_save3.append(save)"
      ]
    },
    {
      "cell_type": "code",
      "execution_count": 23,
      "metadata": {
        "gather": {
          "logged": 1667198332528
        }
      },
      "outputs": [],
      "source": [
        "# 나비와 같은 특징 개별 종에 대한 평균\n",
        "tt1 = [np.mean(i) for i in total_save]\n",
        "\n",
        "# 나비와 다른 특징 개별 종에 대한 평균\n",
        "tt2 = [np.mean(i) for i in total_save2]\n",
        "\n",
        "# 나비 개별 종에 대한 평균\n",
        "tt3 = [np.mean(i) for i in total_save3]"
      ]
    },
    {
      "cell_type": "code",
      "execution_count": 24,
      "metadata": {
        "gather": {
          "logged": 1667198332607
        }
      },
      "outputs": [
        {
          "name": "stdout",
          "output_type": "stream",
          "text": [
            "Ttest_indResult(statistic=1.1776535299017163, pvalue=0.24298075324608712)\n"
          ]
        }
      ],
      "source": [
        "from scipy.stats import ttest_ind\n",
        "\n",
        "# 나비와 같은 특징을 가지는 종과, 나비와의 이동 거리에 대한 차이에 대한 통계적 유의성 보기\n",
        "print(ttest_ind(tt1,tt3))"
      ]
    },
    {
      "cell_type": "code",
      "execution_count": 25,
      "metadata": {
        "gather": {
          "logged": 1667198332666
        }
      },
      "outputs": [
        {
          "name": "stdout",
          "output_type": "stream",
          "text": [
            "Ttest_indResult(statistic=2.9415783399939652, pvalue=0.003553071609040521)\n"
          ]
        }
      ],
      "source": [
        "# 나비와 다른 특징을 가지는 종과, 나비와의 이동 거리에 대한 차이에 대한 통계적 유의성 보기\n",
        "print(ttest_ind(tt2,tt3))"
      ]
    },
    {
      "cell_type": "code",
      "execution_count": 26,
      "metadata": {
        "gather": {
          "logged": 1667198332730
        }
      },
      "outputs": [
        {
          "name": "stdout",
          "output_type": "stream",
          "text": [
            "Ttest_indResult(statistic=-2.1708727947124355, pvalue=0.030790006468999924)\n"
          ]
        }
      ],
      "source": [
        "# 나비와 같은 특징을 가지는 종과, 다른 특징을 가지는 종과의 이동 거리에 대한 차이에 대한 통계적 유의성 보기\n",
        "print(ttest_ind(tt1,tt2))"
      ]
    },
    {
      "cell_type": "code",
      "execution_count": 29,
      "metadata": {
        "gather": {
          "logged": 1667198364569
        }
      },
      "outputs": [
        {
          "data": {
            "image/png": "[encoded data removed]",
            "text/plain": [
              "<Figure size 360x360 with 1 Axes>"
            ]
          },
          "metadata": {
            "needs_background": "light"
          },
          "output_type": "display_data"
        }
      ],
      "source": [
        "plt.figure(figsize=(5,5))\n",
        "plt.ylim(0,350)\n",
        "\n",
        "\n",
        "plt.scatter([1]*len(tt1),tt1)\n",
        "plt.scatter([2]*len(tt3),tt3)\n",
        "plt.scatter([3]*len(tt2),tt2)\n",
        "\n",
        "plt.bar(1,np.mean(tt1),color='None',edgecolor='black')\n",
        "plt.bar(2,np.mean(tt3),color='None',edgecolor='black')\n",
        "plt.bar(3,np.mean(tt2),color='None',edgecolor='black')\n",
        "\n",
        "plt.show()"
      ]
    }
  ],
  "metadata": {
    "kernel_info": {
      "name": "python3"
    },
    "kernelspec": {
      "display_name": "Python 3 (ipykernel)",
      "language": "python",
      "name": "python3"
    },
    "language_info": {
      "codemirror_mode": {
        "name": "ipython",
        "version": 3
      },
      "file_extension": ".py",
      "mimetype": "text/x-python",
      "name": "python",
      "nbconvert_exporter": "python",
      "pygments_lexer": "ipython3",
      "version": "3.8.5"
    },
    "microsoft": {
      "host": {
        "AzureML": {
          "notebookHasBeenCompleted": true
        }
      }
    },
    "nteract": {
      "version": "nteract-front-end@1.0.0"
    },
    "vscode": {
      "interpreter": {
        "hash": "6d65a8c07f5b6469e0fc613f182488c0dccce05038bbda39e5ac9075c0454d11"
      }
    }
  },
  "nbformat": 4,
  "nbformat_minor": 2
}
